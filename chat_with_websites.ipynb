{
 "cells": [
  {
   "cell_type": "markdown",
   "metadata": {},
   "source": [
    "**EL HARKAOUI Chaymae -- 01-03-2025**"
   ]
  },
  {
   "cell_type": "markdown",
   "metadata": {},
   "source": [
    "**<u><h1 style=color:red>Chat with Any Web Site</h1></u>**"
   ]
  },
  {
   "cell_type": "markdown",
   "metadata": {},
   "source": [
    "**<u><h2 style=color:blue>LangChain</h2></u>**"
   ]
  },
  {
   "cell_type": "markdown",
   "metadata": {},
   "source": [
    "**<u><h3 style=color:magenta>What is LangChain ?</h3></u>**"
   ]
  },
  {
   "cell_type": "markdown",
   "metadata": {},
   "source": [
    "**LangChain** is a <font color=gray>-- Python - JavaScript -</font> **Framework** designed to help building **applications powered by LLMs** such as **OpenAI's GPT** - **Google's Gemini** - **Meta's LLaMA** - and other similar models. <br>\n"
   ]
  },
  {
   "cell_type": "markdown",
   "metadata": {},
   "source": [
    "**LangChain** allows developers to :<br>\n",
    "\n",
    "- **Integrate** LLMs with **external data** -- APIs - databases - documents ...\n",
    "- Implement **memory** in chat applications - so conversations are stateful\n",
    "- Use **chains of LLM calls** to enhance reasoning and problem-solving.\n",
    "- **Combine** different models - tools - agents for complex tasks.\n",
    "\n",
    "**LangChain** makes it easy to build **AI-powered applications** like chatbots - document summarizers - question-answering systems - autonomous agents ..."
   ]
  },
  {
   "cell_type": "markdown",
   "metadata": {},
   "source": [
    "![Images/langchian.png](Images/langchain.png)"
   ]
  }
 ],
 "metadata": {
  "language_info": {
   "name": "python"
  }
 },
 "nbformat": 4,
 "nbformat_minor": 2
}
