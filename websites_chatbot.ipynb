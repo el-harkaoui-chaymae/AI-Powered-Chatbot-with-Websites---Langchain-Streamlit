{
 "cells": [
  {
   "cell_type": "markdown",
   "metadata": {},
   "source": [
    "**EL HARKAOUI Chaymae --- IT and Data Engineer**"
   ]
  },
  {
   "cell_type": "markdown",
   "metadata": {},
   "source": [
    "**<u><h1 style=color:red>AI-Powered Chatbot : Conversational Interaction with Any Website</h1></u>**"
   ]
  },
  {
   "cell_type": "markdown",
   "metadata": {},
   "source": []
  }
 ],
 "metadata": {
  "language_info": {
   "name": "python"
  }
 },
 "nbformat": 4,
 "nbformat_minor": 2
}
